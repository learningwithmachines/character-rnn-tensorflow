{
 "cells": [
  {
   "cell_type": "markdown",
   "metadata": {},
   "source": [
    "# Anna KaRNNa\n",
    "\n",
    "In this notebook, we'll build a character-wise RNN trained on Anna Karenina, one of my all-time favorite books. It'll be able to generate new text based on the text from the book.\n",
    "\n",
    "This network is based off of Andrej Karpathy's [post on RNNs](http://karpathy.github.io/2015/05/21/rnn-effectiveness/) and [implementation in Torch](https://github.com/karpathy/char-rnn). Also, some information [here at r2rt](http://r2rt.com/recurrent-neural-networks-in-tensorflow-ii.html) and from [Sherjil Ozair](https://github.com/sherjilozair/char-rnn-tensorflow) on GitHub. Below is the general architecture of the character-wise RNN.\n",
    "\n",
    "<img src=\"assets/charseq.jpeg\" width=\"500\">"
   ]
  },
  {
   "cell_type": "code",
   "execution_count": 1,
   "metadata": {
    "ExecuteTime": {
     "end_time": "2018-05-26T19:20:49.915797Z",
     "start_time": "2018-05-26T19:20:47.771483Z"
    }
   },
   "outputs": [
    {
     "name": "stderr",
     "output_type": "stream",
     "text": [
      "Using TensorFlow backend.\n"
     ]
    }
   ],
   "source": [
    "from copy import copy\n",
    "from functools import partial\n",
    "from keras.models import *\n",
    "from keras.layers import *\n",
    "from keras.layers.embeddings import Embedding\n",
    "from keras.preprocessing import sequence\n",
    "from keras.constraints import max_norm\n",
    "from keras.preprocessing.text import *\n",
    "from keras.optimizers import *\n",
    "from keras.metrics import *\n",
    "from keras.callbacks import *\n",
    "from keras import Input\n",
    "from keras.utils import to_categorical\n",
    "import numpy as np\n",
    "import pandas as pd\n",
    "import time\n",
    "from collections import namedtuple\n",
    "import tensorflow as tf\n",
    "\n",
    "%matplotlib inline\n",
    "np.random.seed(7)"
   ]
  },
  {
   "cell_type": "markdown",
   "metadata": {},
   "source": [
    "First we'll load the text file and convert it into integers for our network to use. Here I'm creating a couple dictionaries to convert the characters to and from integers. Encoding the characters as integers makes it easier to use as input in the network."
   ]
  },
  {
   "cell_type": "code",
   "execution_count": 2,
   "metadata": {
    "ExecuteTime": {
     "end_time": "2018-05-26T19:20:50.224188Z",
     "start_time": "2018-05-26T19:20:49.917788Z"
    }
   },
   "outputs": [],
   "source": [
    "with open('anna.txt', 'r') as f:\n",
    "    text=f.read()\n",
    "vocab = sorted(set(text))\n",
    "vocab_to_int = {c: i for i, c in enumerate(vocab)}\n",
    "int_to_vocab = dict(enumerate(vocab))\n",
    "encoded = np.array([vocab_to_int[c] for c in text], dtype=np.int32)"
   ]
  },
  {
   "cell_type": "markdown",
   "metadata": {},
   "source": [
    "Let's check out the first 101 characters, make sure everything is peachy. According to the [American Book Review](http://americanbookreview.org/100bestlines.asp), this is the 6th best first line of a book ever."
   ]
  },
  {
   "cell_type": "code",
   "execution_count": 3,
   "metadata": {
    "ExecuteTime": {
     "end_time": "2018-05-26T19:20:50.230621Z",
     "start_time": "2018-05-26T19:20:50.225606Z"
    }
   },
   "outputs": [
    {
     "data": {
      "text/plain": [
       "\"Chapter 1\\n\\n\\nHappy families are all alike; every unhappy family is unhappy in its own\\nway.\\n\\nEverything was in confusion in the Oblonskys' house. The wife had\\ndiscovered that the husband was carrying on an intrigue with a French\\ngirl, who had been a governess in their family, and she had announced to\\nher husband that she could not go on living in the same house with him.\\nThis position of affairs had now lasted three days, and not only the\\nhusband and wife themselves, but all the members of their family and\\nhousehold, were painfully conscious of it. Every person in the house\\nfelt that there was no sense in their living together, and that the\\nstray people brought together by chance in any inn had more in common\\nwith one another than they, the members of the family and household of\\nthe Oblonskys. The wife did not leave her own room, the husband had not\\nbeen at home for three days. The children ran wild all over the house;\\nthe English governess quarreled with the housekeeper, and wrote to a\\nf\""
      ]
     },
     "execution_count": 3,
     "metadata": {},
     "output_type": "execute_result"
    }
   ],
   "source": [
    "text[:1001]"
   ]
  },
  {
   "cell_type": "markdown",
   "metadata": {},
   "source": [
    "And we can see the characters encoded as integers."
   ]
  },
  {
   "cell_type": "code",
   "execution_count": 4,
   "metadata": {
    "ExecuteTime": {
     "end_time": "2018-05-26T19:20:50.247666Z",
     "start_time": "2018-05-26T19:20:50.232125Z"
    }
   },
   "outputs": [
    {
     "data": {
      "text/plain": [
       "array([31, 64, 57, 72, 76, 61, 74,  1, 16,  0,  0,  0, 36, 57, 72, 72, 81,\n",
       "        1, 62, 57, 69, 65, 68, 65, 61, 75,  1, 57, 74, 61,  1, 57, 68, 68,\n",
       "        1, 57, 68, 65, 67, 61, 26,  1, 61, 78, 61, 74, 81,  1, 77, 70, 64,\n",
       "       57, 72, 72, 81,  1, 62, 57, 69, 65, 68, 81,  1, 65, 75,  1, 77, 70,\n",
       "       64, 57, 72, 72, 81,  1, 65, 70,  1, 65, 76, 75,  1, 71, 79, 70,  0,\n",
       "       79, 57, 81, 13,  0,  0, 33, 78, 61, 74, 81, 76, 64, 65, 70, 63])"
      ]
     },
     "execution_count": 4,
     "metadata": {},
     "output_type": "execute_result"
    }
   ],
   "source": [
    "encoded[:101]"
   ]
  },
  {
   "cell_type": "markdown",
   "metadata": {},
   "source": [
    "Since the network is working with individual characters, it's similar to a classification problem in which we are trying to predict the next character from the previous text.  Here's how many 'classes' our network has to pick from."
   ]
  },
  {
   "cell_type": "code",
   "execution_count": 5,
   "metadata": {
    "ExecuteTime": {
     "end_time": "2018-05-26T19:20:50.265216Z",
     "start_time": "2018-05-26T19:20:50.250171Z"
    }
   },
   "outputs": [
    {
     "data": {
      "text/plain": [
       "83"
      ]
     },
     "execution_count": 5,
     "metadata": {},
     "output_type": "execute_result"
    }
   ],
   "source": [
    "len(vocab)"
   ]
  },
  {
   "cell_type": "markdown",
   "metadata": {},
   "source": [
    "## Making training mini-batches\n",
    "\n",
    "Here is where we'll make our mini-batches for training. Remember that we want our batches to be multiple sequences of some desired number of sequence steps. Considering a simple example, our batches would look like this:\n",
    "\n",
    "<img src=\"assets/sequence_batching@1x.png\" width=500px>\n",
    "\n",
    "\n",
    "<br>\n",
    "\n",
    "We start with our text encoded as integers in one long array in `encoded`. Let's create a function that will give us an iterator for our batches. I like using [generator functions](https://jeffknupp.com/blog/2013/04/07/improve-your-python-yield-and-generators-explained/) to do this. Then we can pass `encoded` into this function and get our batch generator.\n",
    "\n",
    "The first thing we need to do is discard some of the text so we only have completely full batches. Each batch contains $N \\times M$ characters, where $N$ is the batch size (the number of sequences) and $M$ is the number of steps. Then, to get the total number of batches, $K$, we can make from the array `arr`, you divide the length of `arr` by the number of characters per batch. Once you know the number of batches, you can get the total number of characters to keep from `arr`, $N * M * K$.\n",
    "\n",
    "After that, we need to split `arr` into $N$ sequences. You can do this using `arr.reshape(size)` where `size` is a tuple containing the dimensions sizes of the reshaped array. We know we want $N$ sequences (`batch_size` below), let's make that the size of the first dimension. For the second dimension, you can use `-1` as a placeholder in the size, it'll fill up the array with the appropriate data for you. After this, you should have an array that is $N \\times (M * K)$.\n",
    "\n",
    "Now that we have this array, we can iterate through it to get our batches. The idea is each batch is a $N \\times M$ window on the $N \\times (M * K)$ array. For each subsequent batch, the window moves over by `n_steps`. We also want to create both the input and target arrays. Remember that the targets are the inputs shifted over one character. \n",
    "\n",
    "The way I like to do this window is use `range` to take steps of size `n_steps` from $0$ to `arr.shape[1]`, the total number of steps in each sequence. That way, the integers you get from `range` always point to the start of a batch, and each window is `n_steps` wide.\n",
    "\n",
    "> **Exercise:** Write the code for creating batches in the function below. The exercises in this notebook _will not be easy_. I've provided a notebook with solutions alongside this notebook. If you get stuck, checkout the solutions. The most important thing is that you don't copy and paste the code into here, **type out the solution code yourself.**"
   ]
  },
  {
   "cell_type": "code",
   "execution_count": 6,
   "metadata": {
    "ExecuteTime": {
     "end_time": "2018-05-26T19:20:50.282258Z",
     "start_time": "2018-05-26T19:20:50.266716Z"
    }
   },
   "outputs": [],
   "source": [
    "def get_batches(arr, batch_size, n_steps):\n",
    "    '''Create a generator that returns batches of size\n",
    "       batch_size x n_steps from arr.\n",
    "       \n",
    "       Arguments\n",
    "       ---------\n",
    "       arr: Array you want to make batches from\n",
    "       batch_size: Batch size, the number of sequences per batch\n",
    "       n_steps: Number of sequence steps per batch\n",
    "    '''\n",
    "    # Get the number of characters per batch and number of batches we can make\n",
    "    characters_per_batch = batch_size * n_steps\n",
    "    n_batches = len(arr)//characters_per_batch\n",
    "    \n",
    "    # Keep only enough characters to make full batches\n",
    "    arr = arr[:n_batches*characters_per_batch]\n",
    "    \n",
    "    # Reshape into batch_size rows\n",
    "    arr = arr.reshape(batch_size,-1)\n",
    "    \n",
    "    for n in range(0, arr.shape[1], n_steps):\n",
    "        # The features\n",
    "        x = arr[:, n:n+n_steps]\n",
    "        # The targets, shifted by one\n",
    "        y_uptolast = arr[:, n+1:n+n_steps+1]\n",
    "        # last y will be one element short, so need to preset\n",
    "        # the dimensions by filling in with zeros\n",
    "        # for missing last elements\n",
    "        y = np.zeros(x.shape, dtype=x.dtype)\n",
    "        y[:,:y_uptolast.shape[1]] = y_uptolast\n",
    "        \n",
    "        yield x, y"
   ]
  },
  {
   "cell_type": "markdown",
   "metadata": {},
   "source": [
    "Now I'll make my data sets and we can check out what's going on here. Here I'm going to use a batch size of 10 and 50 sequence steps."
   ]
  },
  {
   "cell_type": "code",
   "execution_count": 7,
   "metadata": {
    "ExecuteTime": {
     "end_time": "2018-05-26T19:20:50.300305Z",
     "start_time": "2018-05-26T19:20:50.284262Z"
    }
   },
   "outputs": [],
   "source": [
    "batches = get_batches(encoded, 100, 50)\n",
    "x, y = next(batches)"
   ]
  },
  {
   "cell_type": "code",
   "execution_count": 8,
   "metadata": {
    "ExecuteTime": {
     "end_time": "2018-05-26T19:20:50.317350Z",
     "start_time": "2018-05-26T19:20:50.302311Z"
    }
   },
   "outputs": [
    {
     "name": "stdout",
     "output_type": "stream",
     "text": [
      "x\n",
      " [[31 64 57 ...  1 77 70]\n",
      " [59 71 68 ... 65 76 76]\n",
      " [ 1 66 77 ... 57 65 60]\n",
      " ...\n",
      " [71  1 76 ... 70  1 64]\n",
      " [61  1 79 ... 78 65 76]\n",
      " [ 1 65 70 ...  1 69 61]]\n",
      "\n",
      "y\n",
      " [[64 57 72 ... 77 70 64]\n",
      " [71 68 57 ... 76 76 68]\n",
      " [66 77 75 ... 65 60  1]\n",
      " ...\n",
      " [ 1 76 64 ...  1 64 61]\n",
      " [ 1 79 57 ... 65 76 57]\n",
      " [65 70 76 ... 69 61 11]]\n"
     ]
    }
   ],
   "source": [
    "print('x\\n', x)\n",
    "print('\\ny\\n', y)"
   ]
  },
  {
   "cell_type": "markdown",
   "metadata": {},
   "source": [
    "If you implemented `get_batches` correctly, the above output should look something like \n",
    "```\n",
    "x\n",
    " [[55 63 69 22  6 76 45  5 16 35]\n",
    " [ 5 69  1  5 12 52  6  5 56 52]\n",
    " [48 29 12 61 35 35  8 64 76 78]\n",
    " [12  5 24 39 45 29 12 56  5 63]\n",
    " [ 5 29  6  5 29 78 28  5 78 29]\n",
    " [ 5 13  6  5 36 69 78 35 52 12]\n",
    " [63 76 12  5 18 52  1 76  5 58]\n",
    " [34  5 73 39  6  5 12 52 36  5]\n",
    " [ 6  5 29 78 12 79  6 61  5 59]\n",
    " [ 5 78 69 29 24  5  6 52  5 63]]\n",
    "\n",
    "y\n",
    " [[63 69 22  6 76 45  5 16 35 35]\n",
    " [69  1  5 12 52  6  5 56 52 29]\n",
    " [29 12 61 35 35  8 64 76 78 28]\n",
    " [ 5 24 39 45 29 12 56  5 63 29]\n",
    " [29  6  5 29 78 28  5 78 29 45]\n",
    " [13  6  5 36 69 78 35 52 12 43]\n",
    " [76 12  5 18 52  1 76  5 58 52]\n",
    " [ 5 73 39  6  5 12 52 36  5 78]\n",
    " [ 5 29 78 12 79  6 61  5 59 63]\n",
    " [78 69 29 24  5  6 52  5 63 76]]\n",
    " ```\n",
    " although the exact numbers will be different. Check to make sure the data is shifted over one step for `y`."
   ]
  },
  {
   "cell_type": "markdown",
   "metadata": {},
   "source": [
    "## Building the model\n",
    "\n",
    "Below is where you'll build the network. We'll break it up into parts so it's easier to reason about each bit. Then we can connect them up into the whole network.\n",
    "\n",
    "<img src=\"assets/charRNN.png\" width=500px>\n",
    "\n",
    "\n",
    "### Inputs\n",
    "\n",
    "First off we'll create our input placeholders. As usual we need placeholders for the training data and the targets. We'll also create a placeholder for dropout layers called `keep_prob`. This will be a scalar, that is a 0-D tensor. To make a scalar, you create a placeholder without giving it a size.\n",
    "\n",
    "> **Exercise:** Create the input placeholders in the function below."
   ]
  },
  {
   "cell_type": "markdown",
   "metadata": {},
   "source": [
    "### LSTM Cell\n",
    "\n",
    "Here we will create the LSTM cell we'll use in the hidden layer. We'll use this cell as a building block for the RNN. So we aren't actually defining the RNN here, just the type of cell we'll use in the hidden layer.\n",
    "\n",
    "We first create a basic LSTM cell with\n",
    "\n",
    "```python\n",
    "lstm = tf.contrib.rnn.BasicLSTMCell(num_units)\n",
    "```\n",
    "\n",
    "where `num_units` is the number of units in the hidden layers in the cell. Then we can add dropout by wrapping it with \n",
    "\n",
    "```python\n",
    "tf.contrib.rnn.DropoutWrapper(lstm, output_keep_prob=keep_prob)\n",
    "```\n",
    "You pass in a cell and it will automatically add dropout to the inputs or outputs. Finally, we can stack up the LSTM cells into layers with [`tf.contrib.rnn.MultiRNNCell`](https://www.tensorflow.org/versions/r1.0/api_docs/python/tf/contrib/rnn/MultiRNNCell). With this, you pass in a list of cells and it will send the output of one cell into the next cell. Previously with TensorFlow 1.0, you could do this\n",
    "\n",
    "```python\n",
    "tf.contrib.rnn.MultiRNNCell([cell]*num_layers)\n",
    "```\n",
    "\n",
    "This might look a little weird if you know Python well because this will create a list of the same `cell` object. However, TensorFlow 1.0 will create different weight matrices for all `cell` objects. But, starting with TensorFlow 1.1 you actually need to create new cell objects in the list. To get it to work in TensorFlow 1.1, it should look like\n",
    "\n",
    "```python\n",
    "def build_cell(num_units, keep_prob):\n",
    "    lstm = tf.contrib.rnn.BasicLSTMCell(num_units)\n",
    "    drop = tf.contrib.rnn.DropoutWrapper(lstm, output_keep_prob=keep_prob)\n",
    "    \n",
    "    return drop\n",
    "    \n",
    "tf.contrib.rnn.MultiRNNCell([build_cell(num_units, keep_prob) for _ in range(num_layers)])\n",
    "```\n",
    "\n",
    "Even though this is actually multiple LSTM cells stacked on each other, you can treat the multiple layers as one cell.\n",
    "\n",
    "We also need to create an initial cell state of all zeros. This can be done like so\n",
    "\n",
    "```python\n",
    "initial_state = cell.zero_state(batch_size, tf.float32)\n",
    "```\n",
    "\n",
    "Below, we implement the `build_lstm` function to create these LSTM cells and the initial state."
   ]
  },
  {
   "cell_type": "markdown",
   "metadata": {},
   "source": [
    "### RNN Output\n",
    "\n",
    "Here we'll create the output layer. We need to connect the output of the RNN cells to a full connected layer with a softmax output. The softmax output gives us a probability distribution we can use to predict the next character, so we want this layer to have size $C$, the number of classes/characters we have in our text.\n",
    "\n",
    "If our input has batch size $N$, number of steps $M$, and the hidden layer has $L$ hidden units, then the output is a 3D tensor with size $N \\times M \\times L$. The output of each LSTM cell has size $L$, we have $M$ of them, one for each sequence step, and we have $N$ sequences. So the total size is $N \\times M \\times L$. \n",
    "\n",
    "We are using the same fully connected layer, the same weights, for each of the outputs. Then, to make things easier, we should reshape the outputs into a 2D tensor with shape $(M * N) \\times L$. That is, one row for each sequence and step, where the values of each row are the output from the LSTM cells. We get the LSTM output as a list, `lstm_output`. First we need to concatenate this whole list into one array with [`tf.concat`](https://www.tensorflow.org/api_docs/python/tf/concat). Then, reshape it (with `tf.reshape`) to size $(M * N) \\times L$.\n",
    "\n",
    "One we have the outputs reshaped, we can do the matrix multiplication with the weights. We need to wrap the weight and bias variables in a variable scope with `tf.variable_scope(scope_name)` because there are weights being created in the LSTM cells. TensorFlow will throw an error if the weights created here have the same names as the weights created in the LSTM cells, which they will be default. To avoid this, we wrap the variables in a variable scope so we can give them unique names.\n",
    "\n",
    "> **Exercise:** Implement the output layer in the function below."
   ]
  },
  {
   "cell_type": "markdown",
   "metadata": {},
   "source": [
    "### Training loss\n",
    "\n",
    "Next up is the training loss. We get the logits and targets and calculate the softmax cross-entropy loss. First we need to one-hot encode the targets, we're getting them as encoded characters. Then, reshape the one-hot targets so it's a 2D tensor with size $(M*N) \\times C$ where $C$ is the number of classes/characters we have. Remember that we reshaped the LSTM outputs and ran them through a fully connected layer with $C$ units. So our logits will also have size $(M*N) \\times C$.\n",
    "\n",
    "Then we run the logits and targets through `tf.nn.softmax_cross_entropy_with_logits` and find the mean to get the loss.\n",
    "\n",
    ">**Exercise:** Implement the loss calculation in the function below."
   ]
  },
  {
   "cell_type": "markdown",
   "metadata": {},
   "source": [
    "### Optimizer\n",
    "\n",
    "Here we build the optimizer. Normal RNNs have have issues gradients exploding and disappearing. LSTMs fix the disappearance problem, but the gradients can still grow without bound. To fix this, we can clip the gradients above some threshold. That is, if a gradient is larger than that threshold, we set it to the threshold. This will ensure the gradients never grow overly large. Then we use an AdamOptimizer for the learning step."
   ]
  },
  {
   "cell_type": "markdown",
   "metadata": {},
   "source": [
    "### Build the network\n",
    "\n",
    "Now we can put all the pieces together and build a class for the network. To actually run data through the LSTM cells, we will use [`tf.nn.dynamic_rnn`](https://www.tensorflow.org/versions/r1.0/api_docs/python/tf/nn/dynamic_rnn). This function will pass the hidden and cell states across LSTM cells appropriately for us. It returns the outputs for each LSTM cell at each step for each sequence in the mini-batch. It also gives us the final LSTM state. We want to save this state as `final_state` so we can pass it to the first LSTM cell in the the next mini-batch run. For `tf.nn.dynamic_rnn`, we pass in the cell and initial state we get from `build_lstm`, as well as our input sequences. Also, we need to one-hot encode the inputs before going into the RNN. \n",
    "\n",
    "> **Exercise:** Use the functions you've implemented previously and `tf.nn.dynamic_rnn` to build the network."
   ]
  },
  {
   "cell_type": "markdown",
   "metadata": {},
   "source": [
    "### Example"
   ]
  },
  {
   "cell_type": "code",
   "execution_count": null,
   "metadata": {
    "ExecuteTime": {
     "end_time": "2018-05-26T10:23:00.104229Z",
     "start_time": "2018-05-26T10:22:57.327308Z"
    },
    "deletable": false,
    "editable": false,
    "run_control": {
     "frozen": true
    }
   },
   "outputs": [],
   "source": [
    "'''Example script to generate text from Nietzsche's writings.\n",
    "At least 20 epochs are required before the generated text\n",
    "starts sounding coherent.\n",
    "It is recommended to run this script on GPU, as recurrent\n",
    "networks are quite computationally intensive.\n",
    "If you try this script on new data, make sure your corpus\n",
    "has at least ~100k characters. ~1M is better.\n",
    "'''\n",
    "\n",
    "from __future__ import print_function\n",
    "from keras.callbacks import LambdaCallback\n",
    "from keras.models import Sequential\n",
    "from keras.layers import Dense, Activation\n",
    "from keras.layers import LSTM\n",
    "from keras.optimizers import RMSprop\n",
    "from keras.utils.data_utils import get_file\n",
    "import numpy as np\n",
    "import random\n",
    "import sys\n",
    "import io\n",
    "\n",
    "path = get_file('nietzsche.txt', origin='https://s3.amazonaws.com/text-datasets/nietzsche.txt')\n",
    "with io.open(path, encoding='utf-8') as f:\n",
    "    text = f.read().lower()\n",
    "print('corpus length:', len(text))\n",
    "\n",
    "chars = sorted(list(set(text)))\n",
    "print('total chars:', len(chars))\n",
    "char_indices = dict((c, i) for i, c in enumerate(chars))\n",
    "indices_char = dict((i, c) for i, c in enumerate(chars))\n",
    "\n",
    "# cut the text in semi-redundant sequences of maxlen characters\n",
    "maxlen = 40\n",
    "step = 3\n",
    "sentences = []\n",
    "next_chars = []\n",
    "for i in range(0, len(text) - maxlen, step):\n",
    "    sentences.append(text[i: i + maxlen])\n",
    "    next_chars.append(text[i + maxlen])\n",
    "print('nb sequences:', len(sentences))\n",
    "\n",
    "print('Vectorization...')\n",
    "x = np.zeros((len(sentences), maxlen, len(chars)), dtype=np.bool)\n",
    "y = np.zeros((len(sentences), len(chars)), dtype=np.bool)\n",
    "for i, sentence in enumerate(sentences):\n",
    "    for t, char in enumerate(sentence):\n",
    "        x[i, t, char_indices[char]] = 1\n",
    "    y[i, char_indices[next_chars[i]]] = 1\n",
    "\n",
    "\n",
    "# build the model: a single LSTM\n",
    "print('Build model...')\n",
    "model = Sequential()\n",
    "model.add(LSTM(128, input_shape=(maxlen, len(chars))))\n",
    "model.add(Dense(len(chars)))\n",
    "model.add(Activation('softmax'))\n",
    "\n",
    "optimizer = RMSprop(lr=0.01)\n",
    "model.compile(loss='categorical_crossentropy', optimizer=optimizer)\n",
    "\n",
    "\n",
    "def sample(preds, temperature=1.0):\n",
    "    # helper function to sample an index from a probability array\n",
    "    preds = np.asarray(preds).astype('float64')\n",
    "    preds = np.log(preds) / temperature\n",
    "    exp_preds = np.exp(preds)\n",
    "    preds = exp_preds / np.sum(exp_preds)\n",
    "    probas = np.random.multinomial(1, preds, 1)\n",
    "    return np.argmax(probas)\n",
    "\n",
    "\n",
    "def on_epoch_end(epoch, logs):\n",
    "    # Function invoked at end of each epoch. Prints generated text.\n",
    "    print()\n",
    "    print('----- Generating text after Epoch: %d' % epoch)\n",
    "\n",
    "    start_index = random.randint(0, len(text) - maxlen - 1)\n",
    "    for diversity in [0.2, 0.5, 1.0, 1.2]:\n",
    "        print('----- diversity:', diversity)\n",
    "\n",
    "        generated = ''\n",
    "        sentence = text[start_index: start_index + maxlen]\n",
    "        generated += sentence\n",
    "        print('----- Generating with seed: \"' + sentence + '\"')\n",
    "        sys.stdout.write(generated)\n",
    "\n",
    "        for i in range(400):\n",
    "            x_pred = np.zeros((1, maxlen, len(chars)))\n",
    "            for t, char in enumerate(sentence):\n",
    "                x_pred[0, t, char_indices[char]] = 1.\n",
    "\n",
    "            preds = model.predict(x_pred, verbose=0)[0]\n",
    "            next_index = sample(preds, diversity)\n",
    "            next_char = indices_char[next_index]\n",
    "\n",
    "            generated += next_char\n",
    "            sentence = sentence[1:] + next_char\n",
    "\n",
    "            sys.stdout.write(next_char)\n",
    "            sys.stdout.flush()\n",
    "        print()\n",
    "\n",
    "print_callback = LambdaCallback(on_epoch_end=on_epoch_end)\n",
    "\n",
    "print(x.shape, y.shape)\n",
    "model.summary()\n",
    "\n",
    "# model.fit(x, y,batch_size=128,epochs=60,callbacks=[print_callback])"
   ]
  },
  {
   "cell_type": "markdown",
   "metadata": {
    "ExecuteTime": {
     "end_time": "2018-05-26T13:32:40.957500Z",
     "start_time": "2018-05-26T13:31:36.916Z"
    }
   },
   "source": [
    "### Keras Implementation"
   ]
  },
  {
   "cell_type": "code",
   "execution_count": 9,
   "metadata": {
    "ExecuteTime": {
     "end_time": "2018-05-26T19:20:52.383850Z",
     "start_time": "2018-05-26T19:20:50.319357Z"
    }
   },
   "outputs": [],
   "source": [
    "#training x and y\n",
    "df = pd.DataFrame(encoded)\n",
    "df = pd.concat([df, df.shift(1)], axis=1)\n",
    "df.dropna(inplace=True)\n",
    "values = df.values\n",
    "train_x, train_y = values[:, 0], values[:, 1]\n",
    "train_x= to_categorical(train_x[:1982464]).reshape(-1,83).astype('bool')\n",
    "train_y= to_categorical(train_y[:1982464]).reshape(-1,83).astype('bool')\n",
    "\n",
    "train_x.astype('int8').shape, train_y.astype('int8').shape\n",
    "\n",
    "#encoded array\n",
    "oht = to_categorical(encoded).astype('int8')\n",
    "\n",
    "#generator\n",
    "def genoht(oht_arr, tsteps):\n",
    "    \n",
    "    enc_vsize = oht_arr.shape[-1]\n",
    "    chars_batch = 1*tsteps\n",
    "    n_batches  = len(oht_arr)//chars_batch\n",
    "    \n",
    "    #clip oht_arr\n",
    "    oht_arr = oht_arr[:n_batches*chars_batch]\n",
    "    \n",
    "    #reshape with features\n",
    "    oht_arr = oht_arr.reshape(1,-1,enc_vsize)\n",
    "    \n",
    "    for n in range(0, oht_arr.shape[1], tsteps):\n",
    "        x = oht_arr[:, n:n+tsteps]\n",
    "        ytemp = oht_arr[:, n+1:n+tsteps+1]\n",
    "        y = np.zeros(x.shape, dtype=x.dtype)\n",
    "        y[:,:ytemp.shape[1]] = ytemp\n",
    "        # one hot x \n",
    "        x =  x.astype('int8').reshape(-1,1,83)\n",
    "        # sparse y\n",
    "        y = np.argmax(y.astype('int8').reshape(-1,83), axis=1)\n",
    "        y = y.astype('int8').reshape(-1,1)\n",
    "        \n",
    "        yield x,y\n",
    "        \n",
    "oht_genfn  = genoht(oht,256)"
   ]
  },
  {
   "cell_type": "code",
   "execution_count": 10,
   "metadata": {
    "ExecuteTime": {
     "end_time": "2018-05-26T19:20:52.390366Z",
     "start_time": "2018-05-26T19:20:52.385863Z"
    }
   },
   "outputs": [
    {
     "data": {
      "text/plain": [
       "((256, 1, 83), (256, 1))"
      ]
     },
     "execution_count": 10,
     "metadata": {},
     "output_type": "execute_result"
    }
   ],
   "source": [
    "x, y  = next(oht_genfn)\n",
    "x.shape, y.shape"
   ]
  },
  {
   "cell_type": "code",
   "execution_count": 61,
   "metadata": {
    "ExecuteTime": {
     "end_time": "2018-05-26T20:23:19.894206Z",
     "start_time": "2018-05-26T20:23:19.878695Z"
    }
   },
   "outputs": [],
   "source": [
    "class CharRNN():\n",
    "    \n",
    "    def __init__(self, num_classes, batch_size=1024, num_steps=128, \n",
    "                 lstm_size=512, learning_rate=0.001,\n",
    "                 sampling=False, dropout=0.5, stateful=True):\n",
    "        \n",
    "        #config\n",
    "        self.evl = 32\n",
    "        self.lstm_units = int(lstm_size)\n",
    "        self.lr = learning_rate\n",
    "        self.sampling = sampling\n",
    "        self.classes = num_classes\n",
    "        self.dropval = dropout\n",
    "        self.bsize = batch_size\n",
    "        self.stepsnum = num_steps\n",
    "        self.onehot_arr = self.onehot()        # categorically encoded array\n",
    "        self.tr_x = train_x\n",
    "        self.tr_y = train_y\n",
    "        self.chkptname = \"checkpoints/keras_lstmm_weights-best.hdf5\"\n",
    "        #alt-fns\n",
    "        self.timestampfn = lambda :str(list(['iter:',self.count,\n",
    "                                'lstm:',self.lstm_units,self.layers,\n",
    "                                '@:',int(time.time()//2)]))\n",
    "        self.expand = lambda x : np.expand_dims(x, axis=0)\n",
    "        #model definitions        \n",
    "        #shape\n",
    "        self.batchSize = (self.stepsnum,1,83)\n",
    "        self.inp_Size = (1,83)\n",
    "        # state\n",
    "        self.count = 0\n",
    "        self.stateful = stateful\n",
    "        #modules\n",
    "        self.dropout = partial(Dropout, rate=self.dropval)\n",
    "        self.Embed = partial(Embedding, )\n",
    "        self.cnn1D = partial(Conv1D, kernel_size=8, strides=1, activation='relu')\n",
    "        self.cnnpool = partial(AveragePooling1D, pool_size=4)\n",
    "        self.GRU = partial(CuDNNGRU, units=self.lstm_units, stateful=self.stateful)\n",
    "        self.Dense = partial(Dense, activation='softmax')\n",
    "        self.timedist_wrap = partial(TimeDistributed, )\n",
    "        self.flatten = partial(Flatten, )\n",
    "        # model instance\n",
    "        self.model = self.build_model()\n",
    "        #callbacks\n",
    "        self.metric = mse\n",
    "        self.checkpoint = ModelCheckpoint(self.chkptname, monitor='loss',\n",
    "                                          verbose=1, save_best_only=True)\n",
    "        \n",
    "        self.LROP = ReduceLROnPlateau(monitor='loss', factor=0.1,\n",
    "                                      patience=2, verbose=1,mode='min',\n",
    "                                      min_delta=1e-6,cooldown=0, min_lr=1e-9)\n",
    "        \n",
    "        self.EarlyStopping =EarlyStopping(monitor='loss', min_delta=1e-6, \n",
    "                                          patience=5, verbose=1, mode='min')\n",
    "        \n",
    "        self.callbacks = [self.checkpoint, self.LROP, self.EarlyStopping]\n",
    "        self.optimizer = SGD(lr=self.lr, momentum=0.9, nesterov=True)\n",
    "        \n",
    "    def onehot(self):\n",
    "        data  = copy.copy(encoded)\n",
    "        return to_categorical(data).astype('int8')\n",
    "    \n",
    "    def hotgen(self):\n",
    "        self.count += 1\n",
    "        oht_arr = self.onehot_arr\n",
    "        enc_vsize = oht_arr.shape[-1]\n",
    "        chars_batch = 1*self.stepsnum\n",
    "        n_batches  = len(oht_arr)//chars_batch\n",
    "\n",
    "        #clip oht_arr\n",
    "        oht_arr = oht_arr[:n_batches*chars_batch]\n",
    "\n",
    "        #reshape with features\n",
    "        oht_arr = oht_arr.reshape(1,-1,enc_vsize)\n",
    "\n",
    "        for n in range(0, oht_arr.shape[1], self.stepsnum):\n",
    "            x = oht_arr[:, n:n+self.stepsnum]\n",
    "            ytemp = oht_arr[:, n+1:n+self.stepsnum+1]\n",
    "            y = np.zeros(x.shape, dtype=x.dtype)\n",
    "            y[:,:ytemp.shape[1]] = ytemp\n",
    "            # one hot x \n",
    "            x =  x.astype('int8').reshape(-1,1,83)\n",
    "            # sparse y\n",
    "            y = y.astype('int8').reshape(-1,83)\n",
    "        \n",
    "            yield x,y\n",
    "            \n",
    "    def timeseriesgen(self):\n",
    "        # experimental - leads to guaranteed oom on tflow\n",
    "        from keras.preprocessing.sequence import TimeseriesGenerator\n",
    "        # returns a keras sequence object.\n",
    "        datagen = TimeseriesGenerator(self.tr_x, self.tr_y, \n",
    "                                      length=self.stepsnum, \n",
    "                                      batch_size = 1, \n",
    "                                      sampling_rate=1,\n",
    "                                      shuffle=False)\n",
    "        return datagen\n",
    "            \n",
    "            \n",
    "    def listcallbacks(self):\n",
    "        return self.callbacks\n",
    "    \n",
    "    def build_model(self):\n",
    "        if self.stateful:\n",
    "            input_ = Input(batch_shape = self.batchSize)\n",
    "        else:\n",
    "            input_ = Input(shape = self.inp_Size)\n",
    "        flatemb = self.flatten(name='flat_inp')(input_)\n",
    "        embed = self.Embed(83, 64, input_length=83, name='emb_pre_cnn')(flatemb)\n",
    "        cnn1D = self.cnn1D(self.lstm_units//8, name='cnn1D_size_8')(embed)\n",
    "        cnnpool = self.cnnpool(name='cnnpool_size_8')(cnn1D)\n",
    "        gru_0 = self.GRU(return_sequences=True, name='gru0_post_cnn1D')(cnnpool)\n",
    "        dropoutL1 = self.dropout(name='drop_gru0')(gru_0)\n",
    "        gru_1 = self.GRU(return_sequences=True, name='gru_1')(dropoutL1)\n",
    "        dropoutL2 = self.dropout(name='drop_gru1')(gru_1)\n",
    "        gru_2 = self.GRU(name='gru2_final')(dropoutL2)\n",
    "        dropoutL3 = self.dropout(name='drop_gru2_final')(gru_2)\n",
    "        #flat_predense = self.flatten(name='flat_predense')(dropoutL3)\n",
    "        dense = self.Dense(self.classes)(dropoutL3)\n",
    "        lstmm = Model(inputs=input_, outputs=dense)\n",
    "        return lstmm"
   ]
  },
  {
   "cell_type": "markdown",
   "metadata": {},
   "source": [
    "## Hyperparameters\n",
    "\n",
    "Here are the hyperparameters for the network.\n",
    "\n",
    "* `batch_size` - Number of sequences running through the network in one pass.\n",
    "* `num_steps` - Number of characters in the sequence the network is trained on. Larger is better typically, the network will learn more long range dependencies. But it takes longer to train. 100 is typically a good number here.\n",
    "* `lstm_size` - The number of units in the hidden layers.\n",
    "* `num_layers` - Number of hidden LSTM layers to use\n",
    "* `learning_rate` - Learning rate for training\n",
    "* `keep_prob` - The dropout keep probability when training. If you're network is overfitting, try decreasing this.\n",
    "\n",
    "Here's some good advice from Andrej Karpathy on training the network. I'm going to copy it in here for your benefit, but also link to [where it originally came from](https://github.com/karpathy/char-rnn#tips-and-tricks).\n",
    "\n",
    "> ## Tips and Tricks\n",
    "\n",
    ">### Monitoring Validation Loss vs. Training Loss\n",
    ">If you're somewhat new to Machine Learning or Neural Networks it can take a bit of expertise to get good models. The most important quantity to keep track of is the difference between your training loss (printed during training) and the validation loss (printed once in a while when the RNN is run on the validation data (by default every 1000 iterations)). In particular:\n",
    "\n",
    "> - If your training loss is much lower than validation loss then this means the network might be **overfitting**. Solutions to this are to decrease your network size, or to increase dropout. For example you could try dropout of 0.5 and so on.\n",
    "> - If your training/validation loss are about equal then your model is **underfitting**. Increase the size of your model (either number of layers or the raw number of neurons per layer)\n",
    "\n",
    "> ### Approximate number of parameters\n",
    "\n",
    "> The two most important parameters that control the model are `lstm_size` and `num_layers`. I would advise that you always use `num_layers` of either 2/3. The `lstm_size` can be adjusted based on how much data you have. The two important quantities to keep track of here are:\n",
    "\n",
    "> - The number of parameters in your model. This is printed when you start training.\n",
    "> - The size of your dataset. 1MB file is approximately 1 million characters.\n",
    "\n",
    ">These two should be about the same order of magnitude. It's a little tricky to tell. Here are some examples:\n",
    "\n",
    "> - I have a 100MB dataset and I'm using the default parameter settings (which currently print 150K parameters). My data size is significantly larger (100 mil >> 0.15 mil), so I expect to heavily underfit. I am thinking I can comfortably afford to make `lstm_size` larger.\n",
    "> - I have a 10MB dataset and running a 10 million parameter model. I'm slightly nervous and I'm carefully monitoring my validation loss. If it's larger than my training loss then I may want to try to increase dropout a bit and see if that helps the validation loss.\n",
    "\n",
    "> ### Best models strategy\n",
    "\n",
    ">The winning strategy to obtaining very good models (if you have the compute time) is to always err on making the network larger (as large as you're willing to wait for it to compute) and then try different dropout values (between 0,1). Whatever model has the best validation performance (the loss, written in the checkpoint filename, low is good) is the one you should use in the end.\n",
    "\n",
    ">It is very common in deep learning to run many different models with many different hyperparameter settings, and in the end take whatever checkpoint gave the best validation performance.\n",
    "\n",
    ">By the way, the size of your training and validation splits are also parameters. Make sure you have a decent amount of data in your validation set or otherwise the validation performance will be noisy and not very informative."
   ]
  },
  {
   "cell_type": "code",
   "execution_count": 62,
   "metadata": {
    "ExecuteTime": {
     "end_time": "2018-05-26T20:23:21.500480Z",
     "start_time": "2018-05-26T20:23:21.495999Z"
    }
   },
   "outputs": [
    {
     "data": {
      "text/plain": [
       "((1982464, 83), (1982464, 83))"
      ]
     },
     "execution_count": 62,
     "metadata": {},
     "output_type": "execute_result"
    }
   ],
   "source": [
    "train_x.shape, train_y.shape"
   ]
  },
  {
   "cell_type": "markdown",
   "metadata": {},
   "source": [
    "#### Model Configs"
   ]
  },
  {
   "cell_type": "code",
   "execution_count": 91,
   "metadata": {
    "ExecuteTime": {
     "end_time": "2018-05-26T20:51:51.179960Z",
     "start_time": "2018-05-26T20:51:51.135366Z"
    },
    "run_control": {
     "marked": false
    }
   },
   "outputs": [],
   "source": [
    "def clear_start(clear = False):\n",
    "    K.get_session().close()\n",
    "    cfg = K.tf.ConfigProto()\n",
    "    cfg.gpu_options.allow_growth = True\n",
    "    K.set_session(K.tf.Session(config=cfg))\n",
    "    if clear:\n",
    "        K.clear_session()\n",
    "    \n",
    "clear_start(True)\n",
    "\n",
    "#num_layers = 3         # FIXED: Number of LSTM layers\n",
    "batch_size = 256        # Sequences per batch\n",
    "num_steps = 128          # Number of sequence steps per batch\n",
    "lstm_size = 1024         # Size of hidden layers in LSTMs\n",
    "learning_rate = 1e-6       # Learning rate\n",
    "keep_prob = 0.8          # Dropout keep probability\n",
    "epochs = 100"
   ]
  },
  {
   "cell_type": "code",
   "execution_count": 92,
   "metadata": {
    "ExecuteTime": {
     "end_time": "2018-05-26T20:51:59.657308Z",
     "start_time": "2018-05-26T20:51:52.204636Z"
    }
   },
   "outputs": [
    {
     "name": "stdout",
     "output_type": "stream",
     "text": [
      "_________________________________________________________________\n",
      "Layer (type)                 Output Shape              Param #   \n",
      "=================================================================\n",
      "input_1 (InputLayer)         (128, 1, 83)              0         \n",
      "_________________________________________________________________\n",
      "flat_inp (Flatten)           (128, 83)                 0         \n",
      "_________________________________________________________________\n",
      "emb_pre_cnn (Embedding)      (128, 83, 64)             5312      \n",
      "_________________________________________________________________\n",
      "cnn1D_size_8 (Conv1D)        (128, 76, 128)            65664     \n",
      "_________________________________________________________________\n",
      "cnnpool_size_8 (AveragePooli (128, 19, 128)            0         \n",
      "_________________________________________________________________\n",
      "gru0_post_cnn1D (CuDNNGRU)   (128, 19, 1024)           3545088   \n",
      "_________________________________________________________________\n",
      "drop_gru0 (Dropout)          (128, 19, 1024)           0         \n",
      "_________________________________________________________________\n",
      "gru_1 (CuDNNGRU)             (128, 19, 1024)           6297600   \n",
      "_________________________________________________________________\n",
      "drop_gru1 (Dropout)          (128, 19, 1024)           0         \n",
      "_________________________________________________________________\n",
      "gru2_final (CuDNNGRU)        (128, 1024)               6297600   \n",
      "_________________________________________________________________\n",
      "drop_gru2_final (Dropout)    (128, 1024)               0         \n",
      "_________________________________________________________________\n",
      "dense_1 (Dense)              (128, 83)                 85075     \n",
      "=================================================================\n",
      "Total params: 16,296,339\n",
      "Trainable params: 16,296,339\n",
      "Non-trainable params: 0\n",
      "_________________________________________________________________\n",
      "None\n"
     ]
    }
   ],
   "source": [
    "LSTM_RNN = CharRNN(len(np.unique(encoded)), \n",
    "                   lstm_size=lstm_size,\n",
    "                   batch_size = batch_size,\n",
    "                   num_steps=num_steps, \n",
    "                   learning_rate=learning_rate,\n",
    "                   dropout=keep_prob)\n",
    "\n",
    "lstm_model = LSTM_RNN.model\n",
    "\n",
    "lstm_optimizer = SGD(lr = LSTM_RNN.lr, momentum = 0.9, decay = 1e-6, nesterov=True)\n",
    "\n",
    "lstm_model.compile(loss='categorical_crossentropy',\n",
    "                   optimizer=lstm_optimizer,\n",
    "                   metrics=[LSTM_RNN.metric])\n",
    "\n",
    "print(lstm_model.summary())"
   ]
  },
  {
   "cell_type": "code",
   "execution_count": 93,
   "metadata": {
    "ExecuteTime": {
     "end_time": "2018-05-26T20:52:00.722678Z",
     "start_time": "2018-05-26T20:52:00.718162Z"
    }
   },
   "outputs": [
    {
     "data": {
      "text/plain": [
       "((128, 1, 83), (128, 83))"
      ]
     },
     "execution_count": 93,
     "metadata": {},
     "output_type": "execute_result"
    }
   ],
   "source": [
    "x = LSTM_RNN.hotgen()\n",
    "x,y = next(x)\n",
    "x.shape, y.shape"
   ]
  },
  {
   "cell_type": "markdown",
   "metadata": {
    "deletable": false,
    "editable": false
   },
   "source": [
    "## Time for training\n",
    "\n",
    "This is typical training code, passing inputs and targets into the network, then running the optimizer. Here we also get back the final LSTM state for the mini-batch. Then, we pass that state back into the network so the next batch can continue the state from the previous batch. And every so often (set by `save_every_n`) I save a checkpoint.\n",
    "\n",
    "Here I'm saving checkpoints with the format\n",
    "\n",
    "`i{iteration number}_l{# hidden layer units}.ckpt`\n",
    "\n",
    "> **Exercise:** Set the hyperparameters above to train the network. Watch the training loss, it should be consistently dropping. Also, I highly advise running this on a GPU."
   ]
  },
  {
   "cell_type": "markdown",
   "metadata": {
    "deletable": false,
    "editable": false
   },
   "source": [
    "#### Saved checkpoints\n",
    "\n",
    "Read up on saving and loading checkpoints here: https://www.tensorflow.org/programmers_guide/variables"
   ]
  },
  {
   "cell_type": "code",
   "execution_count": 94,
   "metadata": {
    "ExecuteTime": {
     "end_time": "2018-05-26T20:57:40.399563Z",
     "start_time": "2018-05-26T20:54:40.621742Z"
    }
   },
   "outputs": [
    {
     "name": "stdout",
     "output_type": "stream",
     "text": [
      "Epoch 1/100\n",
      "256/256 [==============================] - 20s 78ms/step - loss: 2.5604 - mean_squared_error: 0.0104\n",
      "\n",
      "Epoch 00001: loss improved from inf to 2.56037, saving model to checkpoints/keras_lstmm_weights-best.hdf5\n",
      "Epoch 2/100\n",
      "256/256 [==============================] - 19s 75ms/step - loss: 2.5518 - mean_squared_error: 0.0105\n",
      "\n",
      "Epoch 00002: loss improved from 2.56037 to 2.55182, saving model to checkpoints/keras_lstmm_weights-best.hdf5\n",
      "Epoch 3/100\n",
      "256/256 [==============================] - 20s 76ms/step - loss: 2.5699 - mean_squared_error: 0.0104\n",
      "\n",
      "Epoch 00003: loss did not improve from 2.55182\n",
      "Epoch 4/100\n",
      "256/256 [==============================] - 20s 76ms/step - loss: 2.5208 - mean_squared_error: 0.0104\n",
      "\n",
      "Epoch 00004: loss improved from 2.55182 to 2.52078, saving model to checkpoints/keras_lstmm_weights-best.hdf5\n",
      "Epoch 5/100\n",
      "256/256 [==============================] - 19s 76ms/step - loss: 2.5685 - mean_squared_error: 0.0104\n",
      "\n",
      "Epoch 00005: loss did not improve from 2.52078\n",
      "Epoch 6/100\n",
      "256/256 [==============================] - 19s 76ms/step - loss: 2.5594 - mean_squared_error: 0.0104\n",
      "\n",
      "Epoch 00006: loss did not improve from 2.52078\n",
      "\n",
      "Epoch 00006: ReduceLROnPlateau reducing learning rate to 9.999999974752428e-08.\n",
      "Epoch 7/100\n",
      "256/256 [==============================] - 19s 76ms/step - loss: 2.5619 - mean_squared_error: 0.0104\n",
      "\n",
      "Epoch 00007: loss did not improve from 2.52078\n",
      "Epoch 8/100\n",
      "256/256 [==============================] - 19s 76ms/step - loss: 2.5416 - mean_squared_error: 0.0104\n",
      "\n",
      "Epoch 00008: loss did not improve from 2.52078\n",
      "\n",
      "Epoch 00008: ReduceLROnPlateau reducing learning rate to 1.0000000116860975e-08.\n",
      "Epoch 9/100\n",
      "256/256 [==============================] - 20s 76ms/step - loss: 2.5500 - mean_squared_error: 0.0104\n",
      "\n",
      "Epoch 00009: loss did not improve from 2.52078\n",
      "Epoch 00009: early stopping\n"
     ]
    }
   ],
   "source": [
    "callbacks = LSTM_RNN.callbacks\n",
    "LSTM_RNN_datagen  = LSTM_RNN.hotgen()\n",
    "\n",
    "lstm_model.load_weights('checkpoints/keras_lstmm_weights-best.hdf5')\n",
    "\n",
    "lstm_model.fit_generator(LSTM_RNN_datagen, steps_per_epoch = LSTM_RNN.bsize, \n",
    "                         epochs=epochs, shuffle = False,\n",
    "                         workers= 1, use_multiprocessing=False,\n",
    "                         callbacks=callbacks)\n",
    "\n",
    "clear_start(True)"
   ]
  },
  {
   "cell_type": "markdown",
   "metadata": {
    "ExecuteTime": {
     "end_time": "2018-05-26T19:08:33.592317Z",
     "start_time": "2018-05-26T19:08:33.589811Z"
    }
   },
   "source": [
    "### generation"
   ]
  },
  {
   "cell_type": "code",
   "execution_count": 95,
   "metadata": {
    "ExecuteTime": {
     "end_time": "2018-05-26T20:58:29.071102Z",
     "start_time": "2018-05-26T20:58:11.413768Z"
    }
   },
   "outputs": [],
   "source": [
    "clear_start(True)\n",
    "\n",
    "LSTM_RNN = CharRNN(len(np.unique(encoded)), \n",
    "                   lstm_size=lstm_size,\n",
    "                   batch_size = batch_size,\n",
    "                   num_steps=num_steps, \n",
    "                   learning_rate=learning_rate,\n",
    "                   dropout=keep_prob)\n",
    "\n",
    "lstm_model = LSTM_RNN.model\n",
    "lstm_model.compile(loss='categorical_crossentropy',\n",
    "                   optimizer=lstm_optimizer,\n",
    "                   metrics=[LSTM_RNN.metric])\n",
    "lstm_model.load_weights('checkpoints/keras_lstmm_weights-best.hdf5')\n",
    "weights = lstm_model.get_weights()\n",
    "\n",
    "LSTMM_pred = CharRNN(len(np.unique(encoded)), \n",
    "                   lstm_size=lstm_size,\n",
    "                   batch_size = 1,\n",
    "                   num_steps=3, \n",
    "                   learning_rate=learning_rate,\n",
    "                   dropout=0,\n",
    "                   stateful=True)\n",
    "\n",
    "lstm_pred_model = LSTMM_pred.model\n",
    "lstm_pred_model.set_weights(weights=weights)\n",
    "\n",
    "lstm_pred_model.compile(loss='categorical_crossentropy',\n",
    "                   optimizer=lstm_optimizer,\n",
    "                   metrics=[LSTM_RNN.metric]) "
   ]
  },
  {
   "cell_type": "code",
   "execution_count": 96,
   "metadata": {
    "ExecuteTime": {
     "end_time": "2018-05-26T20:58:30.061092Z",
     "start_time": "2018-05-26T20:58:30.034521Z"
    },
    "scrolled": true
   },
   "outputs": [
    {
     "ename": "ValueError",
     "evalue": "Cannot feed value of shape (1, 1, 83) for Tensor 'input_2:0', which has shape '(3, 1, 83)'",
     "output_type": "error",
     "traceback": [
      "\u001b[1;31m---------------------------------------------------------------------------\u001b[0m",
      "\u001b[1;31mValueError\u001b[0m                                Traceback (most recent call last)",
      "\u001b[1;32m<ipython-input-96-44ad17dcd4a4>\u001b[0m in \u001b[0;36m<module>\u001b[1;34m()\u001b[0m\n\u001b[0;32m      4\u001b[0m \u001b[0mseed\u001b[0m \u001b[1;33m=\u001b[0m \u001b[0mtrain_x\u001b[0m\u001b[1;33m[\u001b[0m\u001b[0mseed\u001b[0m\u001b[1;33m]\u001b[0m\u001b[1;33m.\u001b[0m\u001b[0mastype\u001b[0m\u001b[1;33m(\u001b[0m\u001b[1;34m'int8'\u001b[0m\u001b[1;33m)\u001b[0m\u001b[1;33m.\u001b[0m\u001b[0mreshape\u001b[0m\u001b[1;33m(\u001b[0m\u001b[1;36m1\u001b[0m\u001b[1;33m,\u001b[0m\u001b[1;36m1\u001b[0m\u001b[1;33m,\u001b[0m\u001b[1;36m83\u001b[0m\u001b[1;33m)\u001b[0m\u001b[1;33m\u001b[0m\u001b[0m\n\u001b[0;32m      5\u001b[0m \u001b[1;33m\u001b[0m\u001b[0m\n\u001b[1;32m----> 6\u001b[1;33m \u001b[0mres\u001b[0m \u001b[1;33m=\u001b[0m \u001b[0mlstm_pred_model\u001b[0m\u001b[1;33m.\u001b[0m\u001b[0mpredict\u001b[0m\u001b[1;33m(\u001b[0m\u001b[0mseed\u001b[0m\u001b[1;33m,\u001b[0m\u001b[0mverbose\u001b[0m\u001b[1;33m=\u001b[0m\u001b[1;36m1\u001b[0m\u001b[1;33m)\u001b[0m\u001b[1;33m\u001b[0m\u001b[0m\n\u001b[0m\u001b[0;32m      7\u001b[0m \u001b[0mprint\u001b[0m\u001b[1;33m(\u001b[0m\u001b[0mgetchar\u001b[0m\u001b[1;33m(\u001b[0m\u001b[0mseed\u001b[0m\u001b[1;33m,\u001b[0m \u001b[1;36m2\u001b[0m\u001b[1;33m)\u001b[0m\u001b[1;33m,\u001b[0m\u001b[1;34m'->'\u001b[0m\u001b[1;33m,\u001b[0m\u001b[0mgetchar\u001b[0m\u001b[1;33m(\u001b[0m\u001b[0mres\u001b[0m\u001b[1;33m,\u001b[0m\u001b[1;36m1\u001b[0m\u001b[1;33m)\u001b[0m\u001b[1;33m)\u001b[0m\u001b[1;33m\u001b[0m\u001b[0m\n",
      "\u001b[1;32mF:\\python\\anaconda\\envs\\aind\\lib\\site-packages\\keras\\engine\\training.py\u001b[0m in \u001b[0;36mpredict\u001b[1;34m(self, x, batch_size, verbose, steps)\u001b[0m\n\u001b[0;32m   1833\u001b[0m         \u001b[0mf\u001b[0m \u001b[1;33m=\u001b[0m \u001b[0mself\u001b[0m\u001b[1;33m.\u001b[0m\u001b[0mpredict_function\u001b[0m\u001b[1;33m\u001b[0m\u001b[0m\n\u001b[0;32m   1834\u001b[0m         return self._predict_loop(f, ins, batch_size=batch_size,\n\u001b[1;32m-> 1835\u001b[1;33m                                   verbose=verbose, steps=steps)\n\u001b[0m\u001b[0;32m   1836\u001b[0m \u001b[1;33m\u001b[0m\u001b[0m\n\u001b[0;32m   1837\u001b[0m     def train_on_batch(self, x, y,\n",
      "\u001b[1;32mF:\\python\\anaconda\\envs\\aind\\lib\\site-packages\\keras\\engine\\training.py\u001b[0m in \u001b[0;36m_predict_loop\u001b[1;34m(self, f, ins, batch_size, verbose, steps)\u001b[0m\n\u001b[0;32m   1329\u001b[0m                     \u001b[0mins_batch\u001b[0m\u001b[1;33m[\u001b[0m\u001b[0mi\u001b[0m\u001b[1;33m]\u001b[0m \u001b[1;33m=\u001b[0m \u001b[0mins_batch\u001b[0m\u001b[1;33m[\u001b[0m\u001b[0mi\u001b[0m\u001b[1;33m]\u001b[0m\u001b[1;33m.\u001b[0m\u001b[0mtoarray\u001b[0m\u001b[1;33m(\u001b[0m\u001b[1;33m)\u001b[0m\u001b[1;33m\u001b[0m\u001b[0m\n\u001b[0;32m   1330\u001b[0m \u001b[1;33m\u001b[0m\u001b[0m\n\u001b[1;32m-> 1331\u001b[1;33m                 \u001b[0mbatch_outs\u001b[0m \u001b[1;33m=\u001b[0m \u001b[0mf\u001b[0m\u001b[1;33m(\u001b[0m\u001b[0mins_batch\u001b[0m\u001b[1;33m)\u001b[0m\u001b[1;33m\u001b[0m\u001b[0m\n\u001b[0m\u001b[0;32m   1332\u001b[0m                 \u001b[1;32mif\u001b[0m \u001b[1;32mnot\u001b[0m \u001b[0misinstance\u001b[0m\u001b[1;33m(\u001b[0m\u001b[0mbatch_outs\u001b[0m\u001b[1;33m,\u001b[0m \u001b[0mlist\u001b[0m\u001b[1;33m)\u001b[0m\u001b[1;33m:\u001b[0m\u001b[1;33m\u001b[0m\u001b[0m\n\u001b[0;32m   1333\u001b[0m                     \u001b[0mbatch_outs\u001b[0m \u001b[1;33m=\u001b[0m \u001b[1;33m[\u001b[0m\u001b[0mbatch_outs\u001b[0m\u001b[1;33m]\u001b[0m\u001b[1;33m\u001b[0m\u001b[0m\n",
      "\u001b[1;32mF:\\python\\anaconda\\envs\\aind\\lib\\site-packages\\keras\\backend\\tensorflow_backend.py\u001b[0m in \u001b[0;36m__call__\u001b[1;34m(self, inputs)\u001b[0m\n\u001b[0;32m   2480\u001b[0m         \u001b[0msession\u001b[0m \u001b[1;33m=\u001b[0m \u001b[0mget_session\u001b[0m\u001b[1;33m(\u001b[0m\u001b[1;33m)\u001b[0m\u001b[1;33m\u001b[0m\u001b[0m\n\u001b[0;32m   2481\u001b[0m         updated = session.run(fetches=fetches, feed_dict=feed_dict,\n\u001b[1;32m-> 2482\u001b[1;33m                               **self.session_kwargs)\n\u001b[0m\u001b[0;32m   2483\u001b[0m         \u001b[1;32mreturn\u001b[0m \u001b[0mupdated\u001b[0m\u001b[1;33m[\u001b[0m\u001b[1;33m:\u001b[0m\u001b[0mlen\u001b[0m\u001b[1;33m(\u001b[0m\u001b[0mself\u001b[0m\u001b[1;33m.\u001b[0m\u001b[0moutputs\u001b[0m\u001b[1;33m)\u001b[0m\u001b[1;33m]\u001b[0m\u001b[1;33m\u001b[0m\u001b[0m\n\u001b[0;32m   2484\u001b[0m \u001b[1;33m\u001b[0m\u001b[0m\n",
      "\u001b[1;32mF:\\python\\anaconda\\envs\\aind\\lib\\site-packages\\tensorflow\\python\\client\\session.py\u001b[0m in \u001b[0;36mrun\u001b[1;34m(self, fetches, feed_dict, options, run_metadata)\u001b[0m\n\u001b[0;32m    898\u001b[0m     \u001b[1;32mtry\u001b[0m\u001b[1;33m:\u001b[0m\u001b[1;33m\u001b[0m\u001b[0m\n\u001b[0;32m    899\u001b[0m       result = self._run(None, fetches, feed_dict, options_ptr,\n\u001b[1;32m--> 900\u001b[1;33m                          run_metadata_ptr)\n\u001b[0m\u001b[0;32m    901\u001b[0m       \u001b[1;32mif\u001b[0m \u001b[0mrun_metadata\u001b[0m\u001b[1;33m:\u001b[0m\u001b[1;33m\u001b[0m\u001b[0m\n\u001b[0;32m    902\u001b[0m         \u001b[0mproto_data\u001b[0m \u001b[1;33m=\u001b[0m \u001b[0mtf_session\u001b[0m\u001b[1;33m.\u001b[0m\u001b[0mTF_GetBuffer\u001b[0m\u001b[1;33m(\u001b[0m\u001b[0mrun_metadata_ptr\u001b[0m\u001b[1;33m)\u001b[0m\u001b[1;33m\u001b[0m\u001b[0m\n",
      "\u001b[1;32mF:\\python\\anaconda\\envs\\aind\\lib\\site-packages\\tensorflow\\python\\client\\session.py\u001b[0m in \u001b[0;36m_run\u001b[1;34m(self, handle, fetches, feed_dict, options, run_metadata)\u001b[0m\n\u001b[0;32m   1109\u001b[0m                              \u001b[1;34m'which has shape %r'\u001b[0m \u001b[1;33m%\u001b[0m\u001b[1;33m\u001b[0m\u001b[0m\n\u001b[0;32m   1110\u001b[0m                              (np_val.shape, subfeed_t.name,\n\u001b[1;32m-> 1111\u001b[1;33m                               str(subfeed_t.get_shape())))\n\u001b[0m\u001b[0;32m   1112\u001b[0m           \u001b[1;32mif\u001b[0m \u001b[1;32mnot\u001b[0m \u001b[0mself\u001b[0m\u001b[1;33m.\u001b[0m\u001b[0mgraph\u001b[0m\u001b[1;33m.\u001b[0m\u001b[0mis_feedable\u001b[0m\u001b[1;33m(\u001b[0m\u001b[0msubfeed_t\u001b[0m\u001b[1;33m)\u001b[0m\u001b[1;33m:\u001b[0m\u001b[1;33m\u001b[0m\u001b[0m\n\u001b[0;32m   1113\u001b[0m             \u001b[1;32mraise\u001b[0m \u001b[0mValueError\u001b[0m\u001b[1;33m(\u001b[0m\u001b[1;34m'Tensor %s may not be fed.'\u001b[0m \u001b[1;33m%\u001b[0m \u001b[0msubfeed_t\u001b[0m\u001b[1;33m)\u001b[0m\u001b[1;33m\u001b[0m\u001b[0m\n",
      "\u001b[1;31mValueError\u001b[0m: Cannot feed value of shape (1, 1, 83) for Tensor 'input_2:0', which has shape '(3, 1, 83)'"
     ]
    }
   ],
   "source": [
    "getchar = lambda x, axis: str(vocab[np.asscalar(np.argmax(x,axis=axis).flatten())])\n",
    "\n",
    "seed  = np.random.randint(0,train_x.shape[0])\n",
    "seed = train_x[seed].astype('int8').reshape(1,1,83)\n",
    "\n",
    "res = lstm_pred_model.predict(seed,verbose=1)\n",
    "print(getchar(seed, 2),'->',getchar(res,1))"
   ]
  },
  {
   "cell_type": "code",
   "execution_count": null,
   "metadata": {
    "ExecuteTime": {
     "end_time": "2018-05-26T20:58:30.096184Z",
     "start_time": "2018-05-26T20:58:14.128Z"
    }
   },
   "outputs": [],
   "source": [
    "# things to define for ze zenerativ loupe\n",
    "# lstmm.predict(seed.to_onehot(depth=len(vocab))) -> lstm_out\n",
    "# lstm_out[np.argmax, softmax] -> lstm_char_index\n",
    "# lstm_char_index -> vocab_str -> out_str.append(vocab_str)\n",
    "# lstm_char_index -> np.eyes[lstm_char_index] -> lstm_tmp\n",
    "# reset(lstm_out), lstm_tmp.reshape(inp_dims) -> lstm_out\n",
    "# vocab_str -> out_str.append(vocab_str)\n",
    "\n",
    "model_inp_dims = (1,1,83)\n",
    "printstr = ''\n",
    "\n",
    "model_hardmax = lambda x: to_model_dims(np_onehot(np.argmax(x.flatten())))\n",
    "num_to_input = lambda x: to_model_dims(train_x[x])\n",
    "getchar = lambda x: str(vocab[np.asscalar(np.argmax(x,axis=0).flatten())])\n",
    "out_to_string = lambda x: printstr + str(vocab[x])\n",
    "vocab_to_int = lambda x: vocab_to_int[x]\n",
    "np_onehot = lambda x: to_model_dims(np.eye(model_inp_dims[-1])[x])\n",
    "to_model_dims = lambda x: x.astype('int8').reshape(1,1,83)\n",
    "\n",
    "def print_loupe(louperun=1000):\n",
    "    \n",
    "    seed  = np.random.randint(0, train_x.shape[0])\n",
    "    printstr = ''\n",
    "    \n",
    "    model_hardmax = lambda x: to_model_dims(np_onehot(np.argmax(x.flatten())))\n",
    "    num_to_input = lambda x: to_model_dims(train_x[x])\n",
    "    getchar = lambda x: str(vocab[np.asscalar(np.argmax(x,axis=0).flatten())])\n",
    "    out_to_string = lambda x: printstr + str(vocab[x])\n",
    "    vocab_to_int = lambda x: vocab_to_int[x]\n",
    "    np_onehot = lambda x: to_model_dims(np.eye(model_inp_dims[-1])[x])\n",
    "    to_model_dims = lambda x: x.astype('int8').reshape(1,1,83)\n",
    "    \n",
    "    lstm_in = num_to_input(seed)\n",
    "    \n",
    "    for _ in range(louperun):\n",
    "        lstm_out = model_hardmax(lstm_pred_model.predict(lstm_in))\n",
    "        printstr = out_to_string(np.argmax(lstm_out.flatten()))\n",
    "        lstm_in = np_onehot(np.argmax(lstm_out.flatten()))\n",
    "    \n",
    "    print(printstr)\n",
    "    \n",
    "\n",
    "print_loupe()"
   ]
  },
  {
   "cell_type": "markdown",
   "metadata": {},
   "source": [
    "### Reference Implementation Details - TF Model"
   ]
  },
  {
   "cell_type": "code",
   "execution_count": null,
   "metadata": {
    "deletable": false,
    "editable": false,
    "run_control": {
     "frozen": true
    }
   },
   "outputs": [],
   "source": [
    "model = CharRNN(len(vocab), batch_size=batch_size, num_steps=num_steps,\n",
    "                lstm_size=lstm_size, num_layers=num_layers, \n",
    "                learning_rate=learning_rate)."
   ]
  },
  {
   "cell_type": "code",
   "execution_count": null,
   "metadata": {
    "ExecuteTime": {
     "start_time": "2018-05-25T10:20:30.101Z"
    },
    "deletable": false,
    "editable": false,
    "run_control": {
     "frozen": true
    },
    "scrolled": false
   },
   "outputs": [],
   "source": [
    "epochs = 10\n",
    "# Print losses every N interations\n",
    "print_every_n = 256\n",
    "\n",
    "# Save every N iterations\n",
    "save_every_n = 256\n",
    "\n",
    "def safe_reload(obj, sess, checkpoint):\n",
    "    if checkpoint is None:\n",
    "        return None\n",
    "    else:\n",
    "        return obj(sess, checkpoint)\n",
    "\n",
    "model = CharRNN(len(vocab), batch_size=batch_size, num_steps=num_steps,\n",
    "                lstm_size=lstm_size, num_layers=num_layers, \n",
    "                learning_rate=learning_rate)\n",
    "\n",
    "saver = tf.train.Saver(max_to_keep=100)\n",
    "\n",
    "with tf.Session() as sess:\n",
    "    sess.run(tf.global_variables_initializer())\n",
    "    \n",
    "    # Use the line below to load a checkpoint and resume training\n",
    "    safe_reload(saver.restore,sess, tf.train.latest_checkpoint('checkpoints'))\n",
    "    \n",
    "    counter = 0\n",
    "    epoch_losses = []\n",
    "    for e in range(epochs):\n",
    "        epochstart = time.time()\n",
    "        epoch_losses = []\n",
    "        # Train network\n",
    "        new_state = sess.run(model.initial_state)\n",
    "        loss = 0\n",
    "        for x, y in get_batches(encoded, batch_size, num_steps):\n",
    "            counter += 1\n",
    "            start = time.time()\n",
    "            feed = {model.inputs: x,\n",
    "                    model.targets: y,\n",
    "                    model.keep_prob: keep_prob,\n",
    "                    model.initial_state: new_state}\n",
    "            batch_loss, new_state, _ = sess.run([model.loss, \n",
    "                                                 model.final_state, \n",
    "                                                 model.optimizer], \n",
    "                                                 feed_dict=feed)\n",
    "            if (counter % print_every_n == 0):\n",
    "                end = time.time()\n",
    "                print('Epoch: {}/{}... '.format(e+1, epochs),\n",
    "                      'Training Step: {}... '.format(counter),\n",
    "                      'Training loss: {:.4f}... '.format(batch_loss),\n",
    "                      '{:.4f} sec/batch'.format((end-start)))\n",
    "        \n",
    "            if (counter % save_every_n == 0):\n",
    "                saver.save(sess, \"checkpoints/i{}_l{}.ckpt\".format(counter, lstm_size))\n",
    "            epoch_losses.append(batch_loss)\n",
    "    \n",
    "        epochend = time.time()\n",
    "        epochloss_avg = sum(epoch_losses)/len(epoch_losses)\n",
    "        print('Epoch: {}/{}... '.format(e+1, epochs),\n",
    "               '@ Training Step: {}... '.format(counter),\n",
    "               'Epoch Averaged Training loss: {:.4f}... '.format(epochloss_avg),\n",
    "               '{:.4f} sec/batch'.format((epochend-epochstart)))\n",
    "    saver.save(sess, \"checkpoints/i{}_l{}.ckpt\".format(counter, lstm_size))"
   ]
  },
  {
   "cell_type": "code",
   "execution_count": null,
   "metadata": {
    "ExecuteTime": {
     "end_time": "2018-05-25T10:12:57.088421Z",
     "start_time": "2018-05-25T10:12:57.084409Z"
    },
    "deletable": false,
    "editable": false,
    "run_control": {
     "frozen": true
    }
   },
   "outputs": [],
   "source": [
    "tf.train.get_checkpoint_state('checkpoints')"
   ]
  },
  {
   "cell_type": "code",
   "execution_count": null,
   "metadata": {
    "ExecuteTime": {
     "end_time": "2018-05-25T10:08:32.938345Z",
     "start_time": "2018-05-25T10:08:32.934335Z"
    },
    "deletable": false,
    "editable": false,
    "run_control": {
     "frozen": true
    }
   },
   "outputs": [],
   "source": [
    "def pick_top_n(preds, vocab_size, top_n=5):\n",
    "    p = np.squeeze(preds)\n",
    "    p[np.argsort(p)[:-top_n]] = 0\n",
    "    p = p / np.sum(p)\n",
    "    c = np.random.choice(vocab_size, 1, p=p)[0]\n",
    "    return c"
   ]
  },
  {
   "cell_type": "code",
   "execution_count": null,
   "metadata": {
    "ExecuteTime": {
     "end_time": "2018-05-25T10:08:32.980458Z",
     "start_time": "2018-05-25T10:08:32.974442Z"
    },
    "deletable": false,
    "editable": false,
    "run_control": {
     "frozen": true
    }
   },
   "outputs": [],
   "source": [
    "def sample(checkpoint, n_samples, lstm_size, vocab_size, prime=\"The \"):\n",
    "    samples = [c for c in prime]\n",
    "    model = CharRNN(len(vocab), lstm_size=lstm_size, sampling=True)\n",
    "    saver = tf.train.Saver()\n",
    "    with tf.Session() as sess:\n",
    "        saver.restore(sess, checkpoint)\n",
    "        new_state = sess.run(model.initial_state)\n",
    "        for c in prime:\n",
    "            x = np.zeros((1, 1))\n",
    "            x[0,0] = vocab_to_int[c]\n",
    "            feed = {model.inputs: x,\n",
    "                    model.keep_prob: 1.,\n",
    "                    model.initial_state: new_state}\n",
    "            preds, new_state = sess.run([model.prediction, model.final_state], \n",
    "                                         feed_dict=feed)\n",
    "\n",
    "        c = pick_top_n(preds, len(vocab))\n",
    "        samples.append(int_to_vocab[c])\n",
    "\n",
    "        for i in range(n_samples):\n",
    "            x[0,0] = c\n",
    "            feed = {model.inputs: x,\n",
    "                    model.keep_prob: 1.,\n",
    "                    model.initial_state: new_state}\n",
    "            preds, new_state = sess.run([model.prediction, model.final_state], \n",
    "                                         feed_dict=feed)\n",
    "\n",
    "            c = pick_top_n(preds, len(vocab))\n",
    "            samples.append(int_to_vocab[c])\n",
    "        \n",
    "    return ''.join(samples)"
   ]
  },
  {
   "cell_type": "code",
   "execution_count": null,
   "metadata": {
    "ExecuteTime": {
     "end_time": "2018-05-25T10:08:33.022569Z",
     "start_time": "2018-05-25T10:08:33.015551Z"
    },
    "deletable": false,
    "editable": false,
    "run_control": {
     "frozen": true
    }
   },
   "outputs": [],
   "source": [
    "tf.train.latest_checkpoint('checkpoints')"
   ]
  },
  {
   "cell_type": "code",
   "execution_count": null,
   "metadata": {
    "ExecuteTime": {
     "end_time": "2018-05-25T10:08:38.577098Z",
     "start_time": "2018-05-25T10:08:33.055657Z"
    },
    "deletable": false,
    "editable": false,
    "run_control": {
     "frozen": true
    }
   },
   "outputs": [],
   "source": [
    "checkpoint = tf.train.latest_checkpoint('checkpoints')\n",
    "samp = sample(checkpoint, 2000, lstm_size, len(vocab), prime=\"Far\")\n",
    "print(samp)"
   ]
  },
  {
   "cell_type": "code",
   "execution_count": null,
   "metadata": {
    "ExecuteTime": {
     "end_time": "2018-05-25T10:08:44.062190Z",
     "start_time": "2018-05-25T10:08:38.614170Z"
    },
    "deletable": false,
    "editable": false,
    "run_control": {
     "frozen": true
    }
   },
   "outputs": [],
   "source": [
    "checkpoint = 'checkpoints/i512_l512.ckpt'\n",
    "samp = sample(checkpoint, 2000, lstm_size, len(vocab), prime=\"Far\")\n",
    "print(samp)"
   ]
  },
  {
   "cell_type": "markdown",
   "metadata": {},
   "source": [
    "## Sampling\n",
    "\n",
    "Now that the network is trained, we'll can use it to generate new text. The idea is that we pass in a character, then the network will predict the next character. We can use the new one, to predict the next one. And we keep doing this to generate all new text. I also included some functionality to prime the network with some text by passing in a string and building up a state from that.\n",
    "\n",
    "The network gives us predictions for each character. To reduce noise and make things a little less random, I'm going to only choose a new character from the top N most likely characters.\n",
    "\n"
   ]
  },
  {
   "cell_type": "code",
   "execution_count": null,
   "metadata": {
    "ExecuteTime": {
     "end_time": "2018-05-26T16:20:37.372250Z",
     "start_time": "2018-05-26T16:20:37.352698Z"
    }
   },
   "outputs": [],
   "source": [
    "feed = train_x[0:128].reshape(128,1,83).astype('int8')\n",
    "lstm_model.predict(feed, verbose=1)"
   ]
  },
  {
   "cell_type": "markdown",
   "metadata": {},
   "source": [
    "Here, pass in the path to a checkpoint and sample from the network."
   ]
  },
  {
   "cell_type": "code",
   "execution_count": null,
   "metadata": {
    "ExecuteTime": {
     "end_time": "2018-05-26T16:07:55.358632Z",
     "start_time": "2018-05-26T16:07:55.352125Z"
    }
   },
   "outputs": [],
   "source": [
    "def pick_top_n(preds, vocab_size, top_n=5):\n",
    "    p = np.squeeze(preds)\n",
    "    p[np.argsort(p)[:-top_n]] = 0\n",
    "    p = p / np.sum(p)\n",
    "    c = np.random.choice(vocab_size, 1, p=p)[0]\n",
    "    return c\n",
    "\n",
    "def sample(checkpoint, n_samples, lstm_size, vocab_size, prime=\"The \"):\n",
    "    samples = [c for c in prime]\n",
    "    model = LSTM_RNN.model\n",
    "    with tf.Session() as sess:\n",
    "        model_with_weights = model.load_weights(checkpoint)\n",
    "        new_state = sess.run(model.initial_state)\n",
    "        for c in prime:\n",
    "            x = np.zeros((1, 1))\n",
    "            x[0,0] = vocab_to_int[c]\n",
    "            preds = model_with_weights.preict(x, verbose=0)\n",
    "\n",
    "        c = pick_top_n(preds, len(vocab))\n",
    "        samples.append(int_to_vocab[c])\n",
    "\n",
    "        for i in range(n_samples):\n",
    "            x[0,0] = c\n",
    "            feed = {model.inputs: x,\n",
    "                    model.keep_prob: 1.,\n",
    "                    model.initial_state: new_state}\n",
    "            preds, new_state = sess.run([model.prediction, model.final_state], \n",
    "                                         feed_dict=feed)\n",
    "\n",
    "            c = pick_top_n(preds, len(vocab))\n",
    "            samples.append(int_to_vocab[c])\n",
    "        \n",
    "    return ''.join(samples)"
   ]
  },
  {
   "cell_type": "code",
   "execution_count": null,
   "metadata": {
    "ExecuteTime": {
     "end_time": "2018-05-26T16:08:49.703116Z",
     "start_time": "2018-05-26T16:08:42.567409Z"
    }
   },
   "outputs": [],
   "source": [
    "checkpoint = 'checkpoints/keras_lstmm_weights-best.hdf5'\n",
    "samp = sample(checkpoint, 2000, lstm_size, len(vocab), prime=\"Far\")\n",
    "print(samp)"
   ]
  }
 ],
 "metadata": {
  "hide_input": false,
  "kernelspec": {
   "display_name": "Python 3",
   "language": "python",
   "name": "python3"
  },
  "language_info": {
   "codemirror_mode": {
    "name": "ipython",
    "version": 3
   },
   "file_extension": ".py",
   "mimetype": "text/x-python",
   "name": "python",
   "nbconvert_exporter": "python",
   "pygments_lexer": "ipython3",
   "version": "3.6.5"
  },
  "nbTranslate": {
   "displayLangs": [
    "*"
   ],
   "hotkey": "alt-t",
   "langInMainMenu": true,
   "sourceLang": "en",
   "targetLang": "fr",
   "useGoogleTranslate": true
  },
  "varInspector": {
   "cols": {
    "lenName": 16,
    "lenType": 16,
    "lenVar": 40
   },
   "kernels_config": {
    "python": {
     "delete_cmd_postfix": "",
     "delete_cmd_prefix": "del ",
     "library": "var_list.py",
     "varRefreshCmd": "print(var_dic_list())"
    },
    "r": {
     "delete_cmd_postfix": ") ",
     "delete_cmd_prefix": "rm(",
     "library": "var_list.r",
     "varRefreshCmd": "cat(var_dic_list()) "
    }
   },
   "types_to_exclude": [
    "module",
    "function",
    "builtin_function_or_method",
    "instance",
    "_Feature"
   ],
   "window_display": false
  }
 },
 "nbformat": 4,
 "nbformat_minor": 2
}
